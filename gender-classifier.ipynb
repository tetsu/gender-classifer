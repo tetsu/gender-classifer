{
 "cells": [
  {
   "cell_type": "markdown",
   "metadata": {},
   "source": [
    "# Exercise 3\n",
    "This is a very long and complex exercise, that should give you an idea of a real world scenario. Feel free to look at the solution if you feel lost. Also, feel free to run this on Floyd with a GPU, in which case you don't need to download the data.\n",
    "\n",
    "If you are running this locally, download and unpack the male/female pictures from here. These images and labels were obtained from Crowdflower.\n",
    "\n",
    "Your goal is to build an image classifier that will recognize the gender of a person from pictures.\n",
    "\n",
    "1. Have a look at the directory structure and inspect a couple of pictures\n",
    "1. Design a model that will take a color image of size 64x64 as input and return a binary output (female=0/male=1)\n",
    "1. Feel free to introduce any regularization technique in your model (Dropout, Batch Normalization, Weight Regularization)\n",
    "1. Compile your model with an optimizer of your choice\n",
    "1. Using ImageDataGenerator, define a train generator that will augment your images with some geometric transformations. Feel free to choose the parameters that make sense to you.\n",
    "1. Define also a test generator, whose only purpose is to rescale the pixels by 1./255\n",
    "1. use the function flow_from_directory to generate batches from the train and test folders. Make sure you set the target_size to 64x64.\n",
    "1. Use the model.fit_generator function to fit the model on the batches generated from the ImageDataGenerator. Since you are streaming and 1. augmenting the data in real time you will have to decide how many batches make an epoch and how many epochs you want to run\n",
    "1. Train your model (you should get to at least 85% accuracy)\n",
    "1. Once you are satisfied with your training, check a few of the misclassified pictures. Are those sensible errors?"
   ]
  }
 ],
 "metadata": {
  "kernelspec": {
   "display_name": "Python 3",
   "language": "python",
   "name": "python3"
  },
  "language_info": {
   "codemirror_mode": {
    "name": "ipython",
    "version": 3
   },
   "file_extension": ".py",
   "mimetype": "text/x-python",
   "name": "python",
   "nbconvert_exporter": "python",
   "pygments_lexer": "ipython3",
   "version": "3.6.8"
  }
 },
 "nbformat": 4,
 "nbformat_minor": 2
}
